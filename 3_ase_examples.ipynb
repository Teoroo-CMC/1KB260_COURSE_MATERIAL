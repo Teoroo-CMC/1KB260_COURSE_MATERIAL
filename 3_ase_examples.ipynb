{
 "cells": [
  {
   "cell_type": "markdown",
   "metadata": {},
   "source": [
    "# A brief introduction to ASE"
   ]
  },
  {
   "cell_type": "code",
   "execution_count": 1,
   "metadata": {},
   "outputs": [],
   "source": [
    "import numpy as np\n",
    "import pandas as pd\n",
    "import matplotlib.pyplot as plt\n",
    "\n",
    "from ase import Atoms\n",
    "import ase.build.molecule\n",
    "from ase.build import graphene_nanoribbon\n",
    "from ase.build import nanotube\n",
    "\n",
    "from ase import io\n",
    "from ase.visualize import view"
   ]
  },
  {
   "cell_type": "markdown",
   "metadata": {},
   "source": [
    "### ASE\n",
    "\n",
    "ASE (\"Atomic Simulation Environment\") is a powerful tool for working with atoms and molecules in Python. We will use it for performing simple calculations and looking at crystals, molecules etc.\n",
    "\n",
    "If you want to read up on ASE there is plenty of information and tutorials at https://wiki.fysik.dtu.dk/ase/."
   ]
  },
  {
   "cell_type": "markdown",
   "metadata": {},
   "source": [
    "### Molecule structure, visualization\n",
    "\n",
    "\n",
    "There are a few ways we can visualize, interact with and manipulate molecules and other chemical structures with ASE. Some common ways one can incorporate a molecular or structural object are:\n",
    "\n",
    "- Making it with ASE using code. ASE has a large set of molecules and crystal whose structures you can just create using the tools from packages like ase.build. You just load a molecule you wish to work with and use it.\n",
    "\n",
    "- Importing it from a file downloaded from a source on the internet. Common file types that contain information on chemical structures are xyz, cif, pdb, POSCAR, traj, mol, gen, etc. These are all compatible with ASE. \n",
    "\n",
    "- Making it with ASE manually. By running a jupyter notebook cell with the code \"! ase gui\", an ASE gui window pops up. In the drop-down menu you can select what you want to add (a molecule, a surface, or maybe something more exotic like a nanoparticle or a nanotube).\n",
    "\n",
    "In this notebook we will use the first two of the listed options. "
   ]
  },
  {
   "cell_type": "code",
   "execution_count": 3,
   "metadata": {},
   "outputs": [],
   "source": [
    "# Lets first create an atom\n",
    "\n",
    "F_atom = Atoms('F') # we create a fluorine atom\n",
    "\n",
    "view(F_atom) # This opens up a new window where we can look at the atom."
   ]
  },
  {
   "cell_type": "markdown",
   "metadata": {},
   "source": [
    "When running the cell above, a new window pops up that displays the atom that you have just created. But since it is basically only a ball in floating in space, it doesn't look too interesting. Now let's try creating a molecule with the help of ASE.\n",
    "\n",
    "As stated previously, there are many molecules whose structures exist in ASE's databases. We rely on ase.build's function \"molecule\" and we just state the chemical formula or the molecule's name and ASE creates it. \n",
    "\n",
    "Here are some examples. Comment out the line that creates the molecule that you want to see."
   ]
  },
  {
   "cell_type": "code",
   "execution_count": 4,
   "metadata": {},
   "outputs": [],
   "source": [
    "#molecule = ase.build.molecule('CH3COCH3', cell = [10,10,10]) # acetone\n",
    "\n",
    "molecule = ase.build.molecule('isobutane', cell = [10,10,10])\n",
    "\n",
    "#molecule = ase.build.molecule('C6H6', cell = [10,10,10]) # benzene\n",
    "\n",
    "molecule.center()\n",
    "\n",
    "view(molecule)"
   ]
  },
  {
   "cell_type": "markdown",
   "metadata": {},
   "source": [
    "Upon creating a molecule, we put it into a cubic 10x10x10 Å cell just so that manual rotation of the molecule in the gui window would be more intuitive.\n",
    "\n",
    "Sometimes we want to use more complex molecules in ASE. One way to load their structure into the notebook is to download the molecular structure from an online resource (there are plenty) and use ASE to read it. We need to make sure that it is a format that ASE can use, though. Here we load in a molecule from a file of \"xyz\" format. This is a very common and simple structure file format."
   ]
  },
  {
   "cell_type": "code",
   "execution_count": 5,
   "metadata": {},
   "outputs": [],
   "source": [
    "caffeine = io.read('caffeine.xyz')\n",
    "\n",
    "view(caffeine)"
   ]
  },
  {
   "cell_type": "markdown",
   "metadata": {},
   "source": [
    "You can use ASE to generate structures such as graphene nanosheets, nanoribbons and nanotubes. Here are a few examples."
   ]
  },
  {
   "cell_type": "code",
   "execution_count": 6,
   "metadata": {},
   "outputs": [],
   "source": [
    "# building a graphene sheets, ribbons and nanotubes\n",
    "sheet = graphene_nanoribbon(\n",
    "    n = 2,\n",
    "    m= 2,\n",
    "    sheet = True, # If true, make an infinite sheet instead of a ribbon. \n",
    "    vacuum = 2.5, # Amount of vacuum added to non-periodic directions, if present.\n",
    "    )\n",
    "\n",
    "ribbon = graphene_nanoribbon(\n",
    "        n = 2, # The width of the nanoribbon.\n",
    "        m = 8, # The length of the nanoribbon.\n",
    "        type = 'armchair', # The orientation, either ‘zigzag’ or ‘armchair’.\n",
    "        sheet = False, # If true, make an infinite sheet instead of a ribbon. \n",
    "        saturated = False, # If true, hydrogen atoms are placed along the edge.\n",
    "        vacuum = 2.5, # Amount of vacuum added to non-periodic directions, if present.\n",
    ")\n",
    "\n",
    "tube = nanotube(3, 3, length=6, bond=1.4, symbol='C')\n",
    "\n",
    "#view(sheet) # displays one repeating unit in the graphene structure you created\n",
    "# in order to be able to actually look at the structure, we need to repeat it in the directions along the plane\n",
    "#view(sheet*[5,1,5])  # this is a simple way to do it\n",
    "\n",
    "#view(ribbon)\n",
    "#view(ribbon*[2,1,2])\n",
    "\n",
    "#view(tube)"
   ]
  },
  {
   "cell_type": "markdown",
   "metadata": {},
   "source": [
    "In Lab 2 we will dive into ASE's functions that handle **crystal structures**, **surfaces** and **nanoparticles**. There we will also define atom objects and move them accross the crystal surfaces and calculating the adsorption energies"
   ]
  },
  {
   "cell_type": "markdown",
   "metadata": {},
   "source": [
    "## Probing a molecule"
   ]
  },
  {
   "cell_type": "markdown",
   "metadata": {},
   "source": [
    "We can also now probe the imported molecular structure of caffeine by using several ASE functions."
   ]
  },
  {
   "cell_type": "code",
   "execution_count": 7,
   "metadata": {},
   "outputs": [
    {
     "name": "stdout",
     "output_type": "stream",
     "text": [
      "C8H10N4O2\n",
      "['O', 'O', 'N', 'N', 'N', 'N', 'C', 'C', 'C', 'C', 'C', 'C', 'C', 'C', 'H', 'H', 'H', 'H', 'H', 'H', 'H', 'H', 'H', 'H']\n"
     ]
    },
    {
     "data": {
      "text/html": [
       "<div>\n",
       "<style scoped>\n",
       "    .dataframe tbody tr th:only-of-type {\n",
       "        vertical-align: middle;\n",
       "    }\n",
       "\n",
       "    .dataframe tbody tr th {\n",
       "        vertical-align: top;\n",
       "    }\n",
       "\n",
       "    .dataframe thead th {\n",
       "        text-align: right;\n",
       "    }\n",
       "</style>\n",
       "<table border=\"1\" class=\"dataframe\">\n",
       "  <thead>\n",
       "    <tr style=\"text-align: right;\">\n",
       "      <th></th>\n",
       "      <th>x (Å)</th>\n",
       "      <th>y (Å)</th>\n",
       "      <th>z (Å)</th>\n",
       "    </tr>\n",
       "  </thead>\n",
       "  <tbody>\n",
       "    <tr>\n",
       "      <th>O</th>\n",
       "      <td>15.610687</td>\n",
       "      <td>11.402728</td>\n",
       "      <td>6.123724</td>\n",
       "    </tr>\n",
       "    <tr>\n",
       "      <th>O</th>\n",
       "      <td>12.013587</td>\n",
       "      <td>8.390328</td>\n",
       "      <td>6.122824</td>\n",
       "    </tr>\n",
       "    <tr>\n",
       "      <th>N</th>\n",
       "      <td>14.172087</td>\n",
       "      <td>7.521428</td>\n",
       "      <td>6.123124</td>\n",
       "    </tr>\n",
       "    <tr>\n",
       "      <th>N</th>\n",
       "      <td>17.358887</td>\n",
       "      <td>8.975128</td>\n",
       "      <td>6.122824</td>\n",
       "    </tr>\n",
       "    <tr>\n",
       "      <th>N</th>\n",
       "      <td>13.792987</td>\n",
       "      <td>9.913628</td>\n",
       "      <td>6.123024</td>\n",
       "    </tr>\n",
       "    <tr>\n",
       "      <th>N</th>\n",
       "      <td>16.552587</td>\n",
       "      <td>6.896728</td>\n",
       "      <td>6.123324</td>\n",
       "    </tr>\n",
       "    <tr>\n",
       "      <th>C</th>\n",
       "      <td>15.998587</td>\n",
       "      <td>9.093128</td>\n",
       "      <td>6.122324</td>\n",
       "    </tr>\n",
       "    <tr>\n",
       "      <th>C</th>\n",
       "      <td>15.530387</td>\n",
       "      <td>7.807528</td>\n",
       "      <td>6.122724</td>\n",
       "    </tr>\n",
       "    <tr>\n",
       "      <th>C</th>\n",
       "      <td>15.171387</td>\n",
       "      <td>10.255928</td>\n",
       "      <td>6.122524</td>\n",
       "    </tr>\n",
       "    <tr>\n",
       "      <th>C</th>\n",
       "      <td>13.234587</td>\n",
       "      <td>8.584428</td>\n",
       "      <td>6.122724</td>\n",
       "    </tr>\n",
       "  </tbody>\n",
       "</table>\n",
       "</div>"
      ],
      "text/plain": [
       "       x (Å)      y (Å)     z (Å)\n",
       "O  15.610687  11.402728  6.123724\n",
       "O  12.013587   8.390328  6.122824\n",
       "N  14.172087   7.521428  6.123124\n",
       "N  17.358887   8.975128  6.122824\n",
       "N  13.792987   9.913628  6.123024\n",
       "N  16.552587   6.896728  6.123324\n",
       "C  15.998587   9.093128  6.122324\n",
       "C  15.530387   7.807528  6.122724\n",
       "C  15.171387  10.255928  6.122524\n",
       "C  13.234587   8.584428  6.122724"
      ]
     },
     "execution_count": 7,
     "metadata": {},
     "output_type": "execute_result"
    }
   ],
   "source": [
    "print(caffeine.get_chemical_formula())\n",
    "\n",
    "atom_list = caffeine.get_chemical_symbols()\n",
    "print(atom_list)\n",
    "\n",
    "coords = caffeine.get_positions()\n",
    "\n",
    "geometry_df = pd.DataFrame(index=atom_list, data = coords, columns = ['x (Å)', 'y (Å)', 'z (Å)'])\n",
    "\n",
    "geometry_df.head(10) # since the list of atoms is very long, we display only the first 10 rows"
   ]
  },
  {
   "cell_type": "code",
   "execution_count": 8,
   "metadata": {},
   "outputs": [
    {
     "name": "stdout",
     "output_type": "stream",
     "text": [
      "[15.1075526   8.8621001   6.12317103]\n",
      "[15. 15. 15. 60. 60. 60.]\n",
      "(24, 24)\n",
      "[1.22806196]\n",
      "O C\n"
     ]
    }
   ],
   "source": [
    "print(caffeine.get_center_of_mass())  # Prints the coordinates of the molecule's center of mass\n",
    "\n",
    "print(caffeine.get_cell_lengths_and_angles()) # Prints the cell lengths and angles\n",
    "\n",
    "all_distances = caffeine.get_all_distances() # Outputs the matrix of distances between each two pairs of atoms\n",
    "print(all_distances.shape) # Since this is huge, we can't print the whole thing\n",
    "\n",
    "print(caffeine.get_distances(8,0))  # Prints the distance between atom 9 and atom 1\n",
    "print(atom_list[0], atom_list[8])  # Prints which atoms are atoms 9 and O"
   ]
  },
  {
   "cell_type": "markdown",
   "metadata": {},
   "source": [
    "We saw that it would be too much to display all the distances of each pair of atoms in a table. How about a histogram? Luckily, we know some Matplotlib that we can use for that."
   ]
  },
  {
   "cell_type": "code",
   "execution_count": 9,
   "metadata": {},
   "outputs": [
    {
     "data": {
      "text/plain": [
       "Text(0, 0.5, 'Frequency')"
      ]
     },
     "execution_count": 9,
     "metadata": {},
     "output_type": "execute_result"
    },
    {
     "data": {
      "image/png": "[encoded data removed]",
      "text/plain": [
       "<Figure size 432x288 with 1 Axes>"
      ]
     },
     "metadata": {
      "needs_background": "light"
     },
     "output_type": "display_data"
    }
   ],
   "source": [
    "plt.hist(all_distances.flatten(), bins = 200)\n",
    "# Here we \"flattened\" the 24x24 matrix of distances into a one-dimensional array with (24*24=) 576 elements\n",
    "# We then plotted the histogram using the data from the flattened matrix\n",
    "# We set the number of bins to 200 to get a nice resolution\n",
    "\n",
    "\n",
    "plt.xlim(xmin = 0.5) # We exclude the 0 because those represent distances bwtween an atom and itself\n",
    "plt.ylim(ymax = 21.)\n",
    "plt.title('Interatomic distances in caffeine')\n",
    "plt.xlabel('Distance (Å)')\n",
    "plt.ylabel('Frequency')"
   ]
  }
 ],
 "metadata": {
  "kernelspec": {
   "display_name": "Python 3",
   "language": "python",
   "name": "python3"
  },
  "language_info": {
   "codemirror_mode": {
    "name": "ipython",
    "version": 3
   },
   "file_extension": ".py",
   "mimetype": "text/x-python",
   "name": "python",
   "nbconvert_exporter": "python",
   "pygments_lexer": "ipython3",
   "version": "3.7.4"
  }
 },
 "nbformat": 4,
 "nbformat_minor": 4
}
